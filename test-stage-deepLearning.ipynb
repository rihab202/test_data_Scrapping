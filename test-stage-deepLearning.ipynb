{
 "cells": [
  {
   "cell_type": "code",
   "execution_count": 11,
   "id": "e5383b84",
   "metadata": {},
   "outputs": [],
   "source": [
    "from selenium import webdriver \n",
    "from pymongo import MongoClient\n",
    "from bs4 import BeautifulSoup\n",
    "from selenium.webdriver.support.wait import WebDriverWait\n",
    "from selenium.webdriver.support import expected_conditions as EC\n",
    "from selenium.webdriver.common.by import By\n",
    "import pymongo\n",
    "import requests\n",
    "from time import sleep\n",
    "import urllib.request\n",
    "import os"
   ]
  },
  {
   "cell_type": "code",
   "execution_count": 12,
   "id": "41ea9552",
   "metadata": {},
   "outputs": [
    {
     "name": "stderr",
     "output_type": "stream",
     "text": [
      "C:\\Users\\Rihab\\AppData\\Local\\Temp\\ipykernel_14648\\1692069912.py:4: DeprecationWarning: executable_path has been deprecated, please pass in a Service object\n",
      "  driver = webdriver.Chrome(chrome_driver_binary, options=options)\n"
     ]
    }
   ],
   "source": [
    "options = webdriver.ChromeOptions()\n",
    "options.binary_location = r\"C:\\Program Files\\Google\\Chrome\\Application\\chrome.exe\"\n",
    "chrome_driver_binary = \"/usr/local/bin/chromedriver\"\n",
    "driver = webdriver.Chrome(chrome_driver_binary, options=options)\n",
    "#driver.get(\"https://www.google.com\")"
   ]
  },
  {
   "cell_type": "code",
   "execution_count": 13,
   "id": "969b27b1",
   "metadata": {},
   "outputs": [],
   "source": [
    "driver.get('https://www.facebook.com/')"
   ]
  },
  {
   "cell_type": "code",
   "execution_count": 14,
   "id": "0eacd9df",
   "metadata": {},
   "outputs": [],
   "source": [
    "#Accept Cookies\n",
    "#WebDriverWait(driver, 2).until(EC.element_to_be_clickable((By.CSS_SELECTOR, \"button[type='submit']\"))).click()"
   ]
  },
  {
   "cell_type": "code",
   "execution_count": 16,
   "id": "82b72275",
   "metadata": {},
   "outputs": [],
   "source": [
    "#find email and password\n",
    "username = WebDriverWait(driver, 10).until(EC.element_to_be_clickable((By.CSS_SELECTOR, \"input[name='email']\")))\n",
    "email = WebDriverWait(driver, 10).until(EC.element_to_be_clickable((By.CSS_SELECTOR, \"input[name='pass']\")))\n",
    "\n",
    "#enter email and password\n",
    "email.clear()\n",
    "email.send_keys(\"mygmail@gmail.fr\")\n",
    "password.clear()\n",
    "password.send_keys(\"*************\")\n",
    "\n",
    "#find login button and click on it\n",
    "login_btn = driver.find_element(\"xpath\", '//*[@id=\"u_0_2_iQ\"]/div[2]/button')\n",
    "login_btn.click()"
   ]
  },
  {
   "cell_type": "code",
   "execution_count": 32,
   "id": "9d5cf852",
   "metadata": {},
   "outputs": [],
   "source": [
    "driver.get('https://mbasic.facebook.com/')\n",
    "#Search\n",
    "search = WebDriverWait(driver, 10).until(EC.element_to_be_clickable((By.CSS_SELECTOR, \"input[name='query']\")))\n",
    "\n",
    "#enter desired Hashtag\n",
    "search.clear()\n",
    "search.send_keys(\"#covid\")\n",
    "\n",
    "#search button click\n",
    "search_btn = driver.find_element(\"xpath\", '//*[@id=\"header\"]/form/table/tbody/tr/td[3]/input')\n",
    "search_btn.click()"
   ]
  },
  {
   "cell_type": "code",
   "execution_count": 23,
   "id": "08f33f15",
   "metadata": {},
   "outputs": [],
   "source": [
    "'''#Search in www.facebook.com\n",
    "search = WebDriverWait(driver, 10).until(EC.element_to_be_clickable((By.CSS_SELECTOR, \"input[type='search']\")))\n",
    "\n",
    "#enter desired Hashtag\n",
    "search.clear()\n",
    "search.send_keys(\"#news\")\n",
    "\n",
    "#search button click\n",
    "search_btn = driver.find_element(\"xpath\", '//*[@id=\"jsc_c_8r\"]/div/a/div/div[2]/span/span')\n",
    "search_btn.click()"
   ]
  },
  {
   "cell_type": "code",
   "execution_count": 33,
   "id": "74431866",
   "metadata": {},
   "outputs": [],
   "source": [
    "################  beautifulSoup  ####################\n",
    "\n",
    "list_dir=\"C:\\\\\"\n",
    "default_dir = os.path.join(list_dir,\"C:/Users/Rihab/Desktop/image-test\")\n",
    "opener = urllib.request.build_opener()\n",
    "urllib.request.install_opener(opener)"
   ]
  },
  {
   "cell_type": "code",
   "execution_count": 36,
   "id": "752ff599",
   "metadata": {},
   "outputs": [],
   "source": [
    "posts = driver.find_element(\"xpath\", '//*[@id=\"root\"]/div[1]')\n",
    "links = posts.find_elements(\"link text\", \"Actualité intégrale\")\n",
    "pubs = []\n",
    "for link in links:\n",
    "    pub = {}\n",
    "    page_content = requests.get(link.get_attribute('href')).content\n",
    "    soup = BeautifulSoup(page_content, 'html.parser')\n",
    "    #get post text\n",
    "    pub['text'] = soup.p.text\n",
    "    pub['image'] = soup.img[\"src\"]\n",
    "    img_url = soup.img[\"src\"]\n",
    "    filename = os.path.join(default_dir, img_url.split(\"/\")[-1])\n",
    "    img_data = opener.open(img_url)\n",
    "    f = open(filename,\"wb\")\n",
    "    f.write(img_data.read())\n",
    "    f.close()\n",
    "    pubs.append(pub)"
   ]
  },
  {
   "cell_type": "code",
   "execution_count": 37,
   "id": "4e065f69",
   "metadata": {},
   "outputs": [
    {
     "data": {
      "text/plain": [
       "[{'text': 'LET US PRAY....++++ Oh Mary, My Queen and My Mother, have mercy on us, and on the whole World, and save us from #Covid-19. 🙏AMEN.🙏',\n",
       "  'image': 'https://static.xx.fbcdn.net/rsrc.php/v3/y8/r/k97pj8-or6s.png'},\n",
       " {'text': 'SR STO. NINO, Pls Pray For Our Country And Protect Us, Our Family And Our Friends From Danger Against #Covid-19..!!😇❤ 🙏Amen.🙏',\n",
       "  'image': 'https://static.xx.fbcdn.net/rsrc.php/v3/y8/r/k97pj8-or6s.png'},\n",
       " {'text': 'God Forgive Us..😭 And Save Us From Terrible #Covid-19 Killer..❤😇 ln Jesus Name. 🙏++Amen.++🙏',\n",
       "  'image': 'https://static.xx.fbcdn.net/rsrc.php/v3/y8/r/k97pj8-or6s.png'},\n",
       " {'text': 'Rest in peace my beautiful father #covid 19',\n",
       "  'image': 'https://static.xx.fbcdn.net/rsrc.php/v3/y8/r/k97pj8-or6s.png'},\n",
       " {'text': 'This here is a women who has stood by me all my life. A women that will fight and stand by your life ones during COVID-19. This is a women that joined the NHS 20+ years ago to help, protect and safe life.  This is a women that i love beyond words, that means the absolute world to me. This women IS MY MUM ❤️. My gorgeous mum is currently working on a covid ward. She rings me after her shift with fear, upset, being sacred, angry, every single emotion  my mum faces everyday with Covid-19. But i want to show my gratefulnes to this women. Because as a son i am proud of her. I beg along with my other sisters for her not to go to work but she says \"its my job\" We are all sacred for her. She is sacred for herself but she doesn\\'t give up. I am so proud of you like i always have been all my life mum. Once you fighted this for us all. We shall be opening champagne. I love you millions xx #nhs #Covid-19',\n",
       "  'image': 'https://static.xx.fbcdn.net/rsrc.php/v3/y8/r/k97pj8-or6s.png'}]"
      ]
     },
     "execution_count": 37,
     "metadata": {},
     "output_type": "execute_result"
    }
   ],
   "source": [
    "pubs"
   ]
  },
  {
   "cell_type": "code",
   "execution_count": 41,
   "id": "b9b82196",
   "metadata": {},
   "outputs": [
    {
     "data": {
      "text/plain": [
       "{'_id': ObjectId('63e8d1571fab118806788745'),\n",
       " 'text': 'LET US PRAY....++++ Oh Mary, My Queen and My Mother, have mercy on us, and on the whole World, and save us from #Covid-19. 🙏AMEN.🙏',\n",
       " 'image': 'https://static.xx.fbcdn.net/rsrc.php/v3/y8/r/k97pj8-or6s.png'}"
      ]
     },
     "execution_count": 41,
     "metadata": {},
     "output_type": "execute_result"
    }
   ],
   "source": [
    "#MongoDB connection\n",
    "client = pymongo.MongoClient('mongodb://localhost:27017/')\n",
    "mydb = client[\"facebook\"]\n",
    "mycol = mydb[\"posts\"]\n",
    "\n",
    "#insert the list of posts\n",
    "mycol.insert_many(pubs)\n",
    "\n",
    "#Show a sample \n",
    "mycol.find_one()"
   ]
  }
 ],
 "metadata": {
  "kernelspec": {
   "display_name": "Python 3 (ipykernel)",
   "language": "python",
   "name": "python3"
  },
  "language_info": {
   "codemirror_mode": {
    "name": "ipython",
    "version": 3
   },
   "file_extension": ".py",
   "mimetype": "text/x-python",
   "name": "python",
   "nbconvert_exporter": "python",
   "pygments_lexer": "ipython3",
   "version": "3.9.13"
  }
 },
 "nbformat": 4,
 "nbformat_minor": 5
}
